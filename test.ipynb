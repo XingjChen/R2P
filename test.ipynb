{
 "cells": [
  {
   "cell_type": "code",
   "execution_count": 1,
   "metadata": {},
   "outputs": [],
   "source": [
    "import torch\n",
    "import numpy as np\n",
    "\n",
    "a = np.random.rand(2,3)\n",
    "b = np.random.rand(2,3)\n",
    "\n",
    "c = torch.Tensor(a)\n",
    "d = torch.Tensor(b)"
   ]
  },
  {
   "cell_type": "code",
   "execution_count": 2,
   "metadata": {},
   "outputs": [
    {
     "name": "stdout",
     "output_type": "stream",
     "text": [
      "0.1229019466335477\n",
      "0.12290194\n"
     ]
    }
   ],
   "source": [
    "from model import metric\n",
    "\n",
    "print(metric.mse_loss(a, b))\n",
    "print(metric.mse_loss(c, d))"
   ]
  },
  {
   "cell_type": "code",
   "execution_count": 3,
   "metadata": {},
   "outputs": [
    {
     "name": "stdout",
     "output_type": "stream",
     "text": [
      "0.3467791111713354\n",
      "0.3467791\n"
     ]
    }
   ],
   "source": [
    "from model import metric\n",
    "\n",
    "print(metric.rmse_loss(a, b))\n",
    "print(metric.rmse_loss(c, d))"
   ]
  },
  {
   "cell_type": "code",
   "execution_count": 6,
   "metadata": {},
   "outputs": [
    {
     "name": "stdout",
     "output_type": "stream",
     "text": [
      "-143034.81779573078\n",
      "-143028.7961136444\n"
     ]
    }
   ],
   "source": [
    "from model import metric\n",
    "\n",
    "print(metric.r2_loss(a, b))\n",
    "print(metric.r2_loss(c, d))"
   ]
  },
  {
   "cell_type": "code",
   "execution_count": null,
   "metadata": {},
   "outputs": [],
   "source": [
    "from model import metric\n",
    "\n",
    "print(metric.pcc_loss(a, b))\n",
    "print(metric.pcc_loss(c, d))"
   ]
  },
  {
   "cell_type": "code",
   "execution_count": 7,
   "metadata": {},
   "outputs": [],
   "source": [
    "import numpy as np\n",
    "def get_dataset(file_name):\n",
    "\n",
    "    train_X = np.load('data/' + str(file_name) + '/train_x.npy')\n",
    "    train_y = np.load('data/' + str(file_name) + '/train_y.npy')\n",
    "    test_X = np.load('data/' + str(file_name) + '/test_x.npy')\n",
    "    test_y = np.load('data/' + str(file_name) + '/test_y.npy')\n",
    "    \n",
    "    return train_X, train_y, test_X, test_y"
   ]
  },
  {
   "cell_type": "code",
   "execution_count": 8,
   "metadata": {},
   "outputs": [
    {
     "data": {
      "text/plain": [
       "(array([[1.0000e-03, 1.0000e-03, 1.0000e-03, ..., 8.4370e+00, 7.9220e+00,\n",
       "         3.0000e-03],\n",
       "        [1.0000e-03, 1.0000e-03, 1.0000e-03, ..., 9.2970e+00, 5.6030e+00,\n",
       "         3.0000e-03],\n",
       "        [1.0000e-03, 1.0000e-03, 1.0000e-03, ..., 1.1912e+01, 1.6984e+01,\n",
       "         3.0000e-03],\n",
       "        ...,\n",
       "        [1.0000e-03, 1.0000e-03, 1.0000e-03, ..., 1.1500e-01, 7.6000e-02,\n",
       "         1.0000e-03],\n",
       "        [2.0000e-03, 2.0000e-03, 1.0000e-03, ..., 1.3800e-01, 9.2000e-02,\n",
       "         1.0000e-03],\n",
       "        [1.0000e-03, 1.0000e-03, 1.0000e-03, ..., 1.3300e-01, 8.5000e-02,\n",
       "         1.0000e-03]]),\n",
       " array([[-0.38985947, -0.42676403, -0.1021774 , ...,  0.29965794,\n",
       "         -0.20512537, -0.12972735],\n",
       "        [-0.85618147, -0.15459542, -0.37984202, ...,  0.22533639,\n",
       "         -0.13792836, -0.12969786],\n",
       "        [-0.80138405, -0.49264857, -0.10823687, ..., -0.33404354,\n",
       "          0.53585415, -0.62617997],\n",
       "        ...,\n",
       "        [-1.25235821, -1.25235821,  0.22094753, ..., -1.25235821,\n",
       "         -0.09490542, -1.34766839],\n",
       "        [-1.4592042 , -0.94837857,  1.99606041, ..., -1.07621194,\n",
       "         -0.67074684, -0.98920057],\n",
       "        [-0.62458644, -0.82525713, -1.34850528, ..., -0.94304017,\n",
       "         -0.38342438, -0.56574594]]),\n",
       " array([[1.0000e-03, 1.0000e-03, 1.0000e-03, ..., 1.0521e+01, 3.8120e+00,\n",
       "         3.0000e-03],\n",
       "        [1.0000e-03, 1.0000e-03, 1.0000e-03, ..., 7.7270e+00, 4.9240e+00,\n",
       "         1.0000e-03],\n",
       "        [1.0000e-03, 1.0000e-03, 1.0000e-03, ..., 9.9930e+00, 1.1047e+01,\n",
       "         2.0000e-03],\n",
       "        ...,\n",
       "        [1.0000e-03, 1.0000e-03, 1.0000e-03, ..., 7.6000e-02, 5.0000e-02,\n",
       "         1.0000e-03],\n",
       "        [1.0000e-03, 1.0000e-03, 1.0000e-03, ..., 7.3000e-02, 5.0000e-02,\n",
       "         1.0000e-03],\n",
       "        [1.0000e-03, 1.0000e-03, 1.0000e-03, ..., 1.1800e-01, 8.6000e-02,\n",
       "         1.0000e-03]]),\n",
       " array([[-0.64479311, -0.46520753, -0.41186155, ...,  0.43728988,\n",
       "         -0.15049679, -0.10170663],\n",
       "        [-0.84456454, -0.90283345, -0.72051189, ..., -0.43282982,\n",
       "         -0.18988364, -0.52439701],\n",
       "        [-0.17640346,  0.05117469, -0.54907875, ..., -0.30676528,\n",
       "         -0.22186584, -0.28176398],\n",
       "        ...,\n",
       "        [-1.8807885 , -1.18764132, -0.25482129, ..., -1.03349064,\n",
       "         -0.22256042, -1.10759861],\n",
       "        [-0.93756371, -1.03600378, -0.81978068, ..., -1.00210223,\n",
       "         -0.3428566 , -0.93756371],\n",
       "        [-1.69590361, -1.45951484,  1.07668511, ..., -1.31291136,\n",
       "         -0.24507073, -1.40822154]]))"
      ]
     },
     "execution_count": 8,
     "metadata": {},
     "output_type": "execute_result"
    }
   ],
   "source": [
    "train_X, train_y, test_X, test_y = get_dataset('cbmc')"
   ]
  },
  {
   "cell_type": "code",
   "execution_count": null,
   "metadata": {},
   "outputs": [],
   "source": []
  }
 ],
 "metadata": {
  "interpreter": {
   "hash": "de61587235e53f2c2ba01131e1b0cf06e529d81b67fe16dfc45e94fa14311c3f"
  },
  "kernelspec": {
   "display_name": "Python 3.9.12 ('pytorch')",
   "language": "python",
   "name": "python3"
  },
  "language_info": {
   "codemirror_mode": {
    "name": "ipython",
    "version": 3
   },
   "file_extension": ".py",
   "mimetype": "text/x-python",
   "name": "python",
   "nbconvert_exporter": "python",
   "pygments_lexer": "ipython3",
   "version": "3.9.12"
  },
  "orig_nbformat": 4
 },
 "nbformat": 4,
 "nbformat_minor": 2
}
